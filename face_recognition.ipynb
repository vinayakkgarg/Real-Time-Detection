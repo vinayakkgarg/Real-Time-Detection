{
 "cells": [
  {
   "cell_type": "markdown",
   "metadata": {},
   "source": [
    "# Recognising faces using some classification algorithms\n",
    "\n",
    "## logistic, KNN, SVM etc.\n",
    "    1.  load the training data (numpy arrays of all persons)\n",
    "        x : values are stored in numpy arrays\n",
    "        y : values we need to assign for each person\n",
    "    2. Read a video stream using opencv\n",
    "    3. extract faces out of it\n",
    "    4. use knn to find the prediction of face (int)\n",
    "    5. map the predicted id to name of the user\n",
    "    6. display the predictions on screen - bounding box and name"
   ]
  },
  {
   "cell_type": "code",
   "execution_count": 8,
   "metadata": {},
   "outputs": [],
   "source": [
    "import cv2\n",
    "import numpy as np\n",
    "import os"
   ]
  },
  {
   "cell_type": "code",
   "execution_count": 9,
   "metadata": {},
   "outputs": [],
   "source": [
    "# returns the euclidean distance ie underroot of sum of squares of (x1-x2)\n",
    "def distance(v1, v2):\n",
    "\t# Eucledian \n",
    "\treturn np.sqrt(((v1-v2)**2).sum())\n",
    "\n",
    "def knn(train, test, k=5):\n",
    "\tdist = []\n",
    "\t\n",
    "\tfor i in range(train.shape[0]):\n",
    "\t\t# Get the vector and label\n",
    "\t\tix = train[i, :-1]\n",
    "\t\tiy = train[i, -1]\n",
    "\t\t# Compute the distance from test point\n",
    "\t\td = distance(test, ix)\n",
    "\t\tdist.append([d, iy])\n",
    "\t# Sort based on distance and get top k\n",
    "\tdk = sorted(dist, key=lambda x: x[0])[:k]\n",
    "\t# Retrieve only the labels\n",
    "\tlabels = np.array(dk)[:, -1]\n",
    "\t\n",
    "\t# Get frequencies of each label\n",
    "\toutput = np.unique(labels, return_counts=True)\n",
    "\t# Find max frequency and corresponding label\n",
    "\tindex = np.argmax(output[1])\n",
    "\treturn output[0][index]"
   ]
  },
  {
   "cell_type": "code",
   "execution_count": 10,
   "metadata": {},
   "outputs": [],
   "source": [
    "#Init Camera\n",
    "cap = cv2.VideoCapture(0)\n",
    "\n",
    "# Face Detection Classifier\n",
    "face_cascade = cv2.CascadeClassifier(\"haarcascade_frontalface_alt.xml\")\n",
    "\n",
    "skip = 0\n",
    "dataset_path = './data/'\n",
    "face_data = []\n",
    "labels = []\n",
    "\n",
    "# labels for given file\n",
    "class_id = 0\n",
    "\n",
    "# used to create mapping from id to user's name\n",
    "names = {}"
   ]
  },
  {
   "cell_type": "markdown",
   "metadata": {},
   "source": [
    "### Data Preparation"
   ]
  },
  {
   "cell_type": "code",
   "execution_count": 11,
   "metadata": {},
   "outputs": [
    {
     "name": "stdout",
     "output_type": "stream",
     "text": [
      "Loaded: vinayakk.npy\n"
     ]
    }
   ],
   "source": [
    "for fx in os.listdir(dataset_path):\n",
    "    if fx.endswith('.npy'):\n",
    "        \n",
    "        # Create mapping between class_id ie the label and name\n",
    "        names[class_id] = fx[:-4]\n",
    "        print(\"Loaded: \" + fx)\n",
    "        \n",
    "        # we load the file\n",
    "        data_item = np.load(dataset_path+fx)\n",
    "        face_data.append(data_item)\n",
    "        \n",
    "        # Create labels for class\n",
    "        # create array of ones with nub=mber of rows = number of faces captured in that .npy file\n",
    "        target = class_id * np.ones((data_item.shape[0]))\n",
    "        \n",
    "        # increment class_id by one for next .npy file\n",
    "        class_id = class_id + 1\n",
    "        labels.append(target)"
   ]
  },
  {
   "cell_type": "code",
   "execution_count": 12,
   "metadata": {},
   "outputs": [
    {
     "name": "stdout",
     "output_type": "stream",
     "text": [
      "(88, 30000)\n",
      "(88, 1)\n"
     ]
    }
   ],
   "source": [
    "# X_train\n",
    "face_dataset = np.concatenate(face_data, axis=0)\n",
    "\n",
    "# Y_train\n",
    "face_labels = np.concatenate(labels, axis=0).reshape((-1,1))\n",
    "\n",
    "print(face_dataset.shape)\n",
    "print(face_labels.shape)"
   ]
  },
  {
   "cell_type": "code",
   "execution_count": 13,
   "metadata": {},
   "outputs": [
    {
     "name": "stdout",
     "output_type": "stream",
     "text": [
      "(88, 30001)\n"
     ]
    }
   ],
   "source": [
    "# Concatenate X and Y both into 1 training matrix\n",
    "# train_set = [[X][Y]]\n",
    "\n",
    "# 30,000 features + 1 label\n",
    "train_set = np.concatenate((face_dataset, face_labels),axis = 1)\n",
    "print(train_set.shape)"
   ]
  },
  {
   "cell_type": "markdown",
   "metadata": {},
   "source": [
    "### Reading test data using video stream"
   ]
  },
  {
   "cell_type": "code",
   "execution_count": 14,
   "metadata": {},
   "outputs": [],
   "source": [
    "while(True):\n",
    "    ret, frame = cap.read()\n",
    "    if(ret==False):\n",
    "        continue\n",
    "        \n",
    "    faces = face_cascade.detectMultiScale(frame, 1.3,5)\n",
    "    \n",
    "    for face in faces:\n",
    "        x, y, w, h = face\n",
    "        \n",
    "        # Get the REGION OF INTEREST\n",
    "        offset = 10\n",
    "        face_section = frame[y-offset: y+h+offset, x-offset:x+w+offset]\n",
    "        face_section = cv2.resize(face_section,(100,100))\n",
    "\n",
    "        # Predicted label(out)\n",
    "        out = knn(train_set, face_section.flatten())\n",
    "        \n",
    "        # Display on screen the name and a rectangle around it\n",
    "        pred_name = names[int(out)]\n",
    "        cv2.putText(frame, pred_name, (x,y-10), cv2.FONT_HERSHEY_SIMPLEX, 1, (255,0,0),2,cv2.LINE_AA)\n",
    "        cv2.rectangle(frame, (x,y),(x+w,y+h),(0,255,255),2)\n",
    "    \n",
    "    cv2.imshow(\"Faces\", frame)\n",
    "    \n",
    "    key = cv2.waitKey(1) & 0xFF\n",
    "    if(key==ord('q')):\n",
    "        break\n",
    "\n",
    "cap.release()\n",
    "cv2.destroyAllWindows()"
   ]
  }
 ],
 "metadata": {
  "kernelspec": {
   "display_name": "Python 3",
   "language": "python",
   "name": "python3"
  },
  "language_info": {
   "codemirror_mode": {
    "name": "ipython",
    "version": 3
   },
   "file_extension": ".py",
   "mimetype": "text/x-python",
   "name": "python",
   "nbconvert_exporter": "python",
   "pygments_lexer": "ipython3",
   "version": "3.5.2"
  }
 },
 "nbformat": 4,
 "nbformat_minor": 2
}
